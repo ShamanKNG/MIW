{
 "cells": [
  {
   "cell_type": "code",
   "execution_count": 16,
   "metadata": {
    "collapsed": true
   },
   "outputs": [],
   "source": [
    "from numpy import array,round\n",
    "from scipy.linalg import svd"
   ]
  },
  {
   "cell_type": "code",
   "execution_count": 17,
   "outputs": [],
   "source": [
    "A = array([[3, 1, 1], [-1, 3, 1]])"
   ],
   "metadata": {
    "collapsed": false,
    "pycharm": {
     "name": "#%%\n"
    }
   }
  },
  {
   "cell_type": "code",
   "execution_count": 18,
   "outputs": [
    {
     "name": "stdout",
     "output_type": "stream",
     "text": [
      "A= [[ 3  1  1]\n",
      " [-1  3  1]]\n"
     ]
    }
   ],
   "source": [
    "print(\"A=\",A)"
   ],
   "metadata": {
    "collapsed": false,
    "pycharm": {
     "name": "#%%\n"
    }
   }
  },
  {
   "cell_type": "code",
   "execution_count": 19,
   "outputs": [],
   "source": [
    "U, S, V_T = svd(A)"
   ],
   "metadata": {
    "collapsed": false,
    "pycharm": {
     "name": "#%%\n"
    }
   }
  },
  {
   "cell_type": "code",
   "execution_count": 20,
   "outputs": [
    {
     "name": "stdout",
     "output_type": "stream",
     "text": [
      "U=\n",
      "[[-0.70710678 -0.70710678]\n",
      " [-0.70710678  0.70710678]]\n",
      "S=\n",
      "[3.46410162 3.16227766]\n",
      "V_T=\n",
      "[[-4.08248290e-01 -8.16496581e-01 -4.08248290e-01]\n",
      " [-8.94427191e-01  4.47213595e-01  5.26260748e-16]\n",
      " [-1.82574186e-01 -3.65148372e-01  9.12870929e-01]]\n"
     ]
    }
   ],
   "source": [
    "print(\"U=\")\n",
    "print(U)\n",
    "# singular values\n",
    "print(\"S=\")\n",
    "print(S)\n",
    "#right singular vectors\n",
    "print(\"V_T=\")\n",
    "print(V_T)"
   ],
   "metadata": {
    "collapsed": false,
    "pycharm": {
     "name": "#%%\n"
    }
   }
  },
  {
   "cell_type": "code",
   "execution_count": 21,
   "outputs": [],
   "source": [
    "#######################"
   ],
   "metadata": {
    "collapsed": false,
    "pycharm": {
     "name": "#%%\n"
    }
   }
  },
  {
   "cell_type": "code",
   "execution_count": 484,
   "outputs": [],
   "source": [
    "import numpy as np\n",
    "from scipy.linalg import eigh,norm,eig\n",
    "step=0"
   ],
   "metadata": {
    "collapsed": false,
    "pycharm": {
     "name": "#%%\n"
    }
   }
  },
  {
   "cell_type": "code",
   "execution_count": 515,
   "outputs": [
    {
     "name": "stdout",
     "output_type": "stream",
     "text": [
      "[[-8.16496581e-01 -5.77350269e-01 -1.57009246e-16]\n",
      " [-4.08248290e-01  5.77350269e-01 -7.07106781e-01]\n",
      " [-4.08248290e-01  5.77350269e-01  7.07106781e-01]] \n",
      "--------------\n",
      " [ 0.70710678 -0.70710678]\n"
     ]
    }
   ],
   "source": [
    "# A = array([[-5, 2, 3], [2,5, 1],[-3,1,-5]])\n",
    "# A = np.array([[3, 1, 1], [-1, 3, 1]])\n",
    "\n",
    "A = array([[1, 1], [0,1],[1,0]])\n",
    "if(len(A)>len(A[0])):\n",
    "    step=eigh(A@A.T)\n",
    "    ev,U=step\n",
    "    v0=A.T@U[:,2]/norm(A.T@U[:,2])\n",
    "    v1=A.T@U[:,1]/norm(A.T@U[:,1])\n",
    "    V=np.array([v0,v1])\n",
    "    V = V[~np.all(V == 0, axis=1)]#USUWA zerowe wiersze\n",
    "else:\n",
    "    step=eig(A.T@A)\n",
    "    ev,V=step\n",
    "    u0=A@V[:,0]/norm(A@V[:,0])\n",
    "    u1=A@V[:,1]/norm(A@V[:,1])#sigma-1*A*V\n",
    "    u2=A@V[:,2]/norm(A@V[:,2])\n",
    "    U= np.array([u0,u1,u2]).T\n",
    "    U = U[~np.all(U == 0, axis=1)]#USUWA zerowe wiersze\n",
    "\n",
    "# D=round(V @ A @ U.T, decimals=5)\n",
    "\n",
    "print(U,\"\\n--------------\\n\",v0)"
   ],
   "metadata": {
    "collapsed": false,
    "pycharm": {
     "name": "#%%\n"
    }
   }
  },
  {
   "cell_type": "code",
   "execution_count": 511,
   "outputs": [
    {
     "data": {
      "text/plain": "(array([1.77635684e-15, 1.00000000e+00, 3.00000000e+00]),\n array([[ 0.57735027,  0.        ,  0.81649658],\n        [-0.57735027, -0.70710678,  0.40824829],\n        [-0.57735027,  0.70710678,  0.40824829]]))"
     },
     "execution_count": 511,
     "metadata": {},
     "output_type": "execute_result"
    }
   ],
   "source": [
    "step"
   ],
   "metadata": {
    "collapsed": false,
    "pycharm": {
     "name": "#%%\n"
    }
   }
  },
  {
   "cell_type": "code",
   "execution_count": 502,
   "outputs": [],
   "source": [
    "# ev,V=step"
   ],
   "metadata": {
    "collapsed": false,
    "pycharm": {
     "name": "#%%\n"
    }
   }
  },
  {
   "cell_type": "code",
   "execution_count": 502,
   "outputs": [],
   "source": [],
   "metadata": {
    "collapsed": false,
    "pycharm": {
     "name": "#%%\n"
    }
   }
  },
  {
   "cell_type": "code",
   "execution_count": 503,
   "outputs": [],
   "source": [
    "# u0=A@V[:,0]/norm(A@V[:,0])\n",
    "# u1=A@V[:,1]/norm(A@V[:,1])\n",
    "# u2=A@V[:,2]/norm(A@V[:,2])\n",
    "# ev"
   ],
   "metadata": {
    "collapsed": false,
    "pycharm": {
     "name": "#%%\n"
    }
   }
  },
  {
   "cell_type": "code",
   "execution_count": 504,
   "outputs": [
    {
     "data": {
      "text/plain": "array([[-0.77151675,  0.26726124,  0.6147259 ],\n       [ 0.15430335, -0.80178373,  0.56903076],\n       [-0.6172134 , -0.53452248, -0.54618318]])"
     },
     "execution_count": 504,
     "metadata": {},
     "output_type": "execute_result"
    }
   ],
   "source": [
    "# U= np.array([u0,u1,u2]).T\n",
    "U"
   ],
   "metadata": {
    "collapsed": false,
    "pycharm": {
     "name": "#%%\n"
    }
   }
  },
  {
   "cell_type": "code",
   "execution_count": 505,
   "outputs": [
    {
     "data": {
      "text/plain": "array([[ 0.96362411, -0.26726124, -0.04756101],\n       [-0.22237479, -0.80178373,  0.56499976],\n       [ 0.14824986,  0.53452248,  0.82371914]])"
     },
     "execution_count": 505,
     "metadata": {},
     "output_type": "execute_result"
    }
   ],
   "source": [
    "# U = U[~np.all(U == 0, axis=1)]#USUWA zerowe wiersze\n",
    "V"
   ],
   "metadata": {
    "collapsed": false,
    "pycharm": {
     "name": "#%%\n"
    }
   }
  },
  {
   "cell_type": "code",
   "execution_count": 506,
   "outputs": [
    {
     "data": {
      "text/plain": "array([[ 6.245  ,  0.     , -0.30823],\n       [ 0.     ,  5.     ,  0.     ],\n       [-0.30823,  0.     ,  6.245  ]])"
     },
     "execution_count": 506,
     "metadata": {},
     "output_type": "execute_result"
    }
   ],
   "source": [
    "D=round(U.T @ A@ V, decimals=5)\n",
    "D = D[~np.all(D == 0, axis=1)]\n",
    "\n",
    "# idx = np.argwhere(np.all(D[..., :] == 0, axis=0))\n",
    "# D = np.delete(D, idx, axis=1)\n",
    "D"
   ],
   "metadata": {
    "collapsed": false,
    "pycharm": {
     "name": "#%%\n"
    }
   }
  },
  {
   "cell_type": "code",
   "execution_count": 507,
   "outputs": [
    {
     "name": "stdout",
     "output_type": "stream",
     "text": [
      "A=U*E*V^T [[-5.  2.  3.]\n",
      " [ 2.  5.  1.]\n",
      " [-3.  1. -5.]]\n"
     ]
    }
   ],
   "source": [
    "print(\"A=U*E*V^T\",round(U@D@V.T))"
   ],
   "metadata": {
    "collapsed": false,
    "pycharm": {
     "name": "#%%\n"
    }
   }
  },
  {
   "cell_type": "code",
   "execution_count": 415,
   "outputs": [],
   "source": [
    "A = array([[-5, 2, 3], [2,5, 1],[-3,1,-5]])"
   ],
   "metadata": {
    "collapsed": false,
    "pycharm": {
     "name": "#%%\n"
    }
   }
  },
  {
   "cell_type": "code",
   "execution_count": null,
   "outputs": [],
   "source": [],
   "metadata": {
    "collapsed": false,
    "pycharm": {
     "name": "#%%\n"
    }
   }
  }
 ],
 "metadata": {
  "kernelspec": {
   "display_name": "Python 3",
   "language": "python",
   "name": "python3"
  },
  "language_info": {
   "codemirror_mode": {
    "name": "ipython",
    "version": 2
   },
   "file_extension": ".py",
   "mimetype": "text/x-python",
   "name": "python",
   "nbconvert_exporter": "python",
   "pygments_lexer": "ipython2",
   "version": "2.7.6"
  }
 },
 "nbformat": 4,
 "nbformat_minor": 0
}