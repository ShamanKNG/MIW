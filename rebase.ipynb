{
 "cells": [
  {
   "cell_type": "code",
   "execution_count": 30,
   "outputs": [],
   "source": [
    "import math\n",
    "import numpy as np"
   ],
   "metadata": {
    "collapsed": false,
    "pycharm": {
     "name": "#%%\n"
    }
   }
  },
  {
   "cell_type": "code",
   "execution_count": 31,
   "outputs": [],
   "source": [
    "V1T = np.array([\n",
    "    [1,1,1,1,1,1,1,1],\n",
    "    [1,1,1,1,-1,-1,-1,-1],\n",
    "    [1,1,-1,-1,0,0,0,0],\n",
    "    [0,0,0,0,1,1,-1,-1],\n",
    "    [1,-1,0,0,0,0,0,0],\n",
    "    [0,0,1,-1,0,0,0,0],\n",
    "    [0,0,0,0,1,-1,0,0],\n",
    "    [0,0,0,0,0,0,1,-1],\n",
    "])"
   ],
   "metadata": {
    "collapsed": false,
    "pycharm": {
     "name": "#%%\n"
    }
   }
  },
  {
   "cell_type": "code",
   "execution_count": 32,
   "outputs": [],
   "source": [
    "V1 = np.transpose(V1T)\n",
    "V2 = V1T @ V1"
   ],
   "metadata": {
    "collapsed": false,
    "pycharm": {
     "name": "#%%\n"
    }
   }
  },
  {
   "cell_type": "code",
   "execution_count": 33,
   "outputs": [
    {
     "name": "stdout",
     "output_type": "stream",
     "text": [
      "V2\n",
      " [[8 0 0 0 0 0 0 0]\n",
      " [0 8 0 0 0 0 0 0]\n",
      " [0 0 4 0 0 0 0 0]\n",
      " [0 0 0 4 0 0 0 0]\n",
      " [0 0 0 0 2 0 0 0]\n",
      " [0 0 0 0 0 2 0 0]\n",
      " [0 0 0 0 0 0 2 0]\n",
      " [0 0 0 0 0 0 0 2]]\n"
     ]
    }
   ],
   "source": [
    "print(\"V2\\n\", V2)"
   ],
   "metadata": {
    "collapsed": false,
    "pycharm": {
     "name": "#%%\n"
    }
   }
  },
  {
   "cell_type": "code",
   "execution_count": 34,
   "outputs": [
    {
     "name": "stdout",
     "output_type": "stream",
     "text": [
      "[]\n"
     ]
    }
   ],
   "source": [
    "jedn=[]\n",
    "print(jedn)"
   ],
   "metadata": {
    "collapsed": false,
    "pycharm": {
     "name": "#%%\n"
    }
   }
  },
  {
   "cell_type": "code",
   "execution_count": 35,
   "outputs": [
    {
     "name": "stdout",
     "output_type": "stream",
     "text": [
      "[array([0.35355339, 0.35355339, 0.35355339, 0.35355339, 0.35355339,\n",
      "       0.35355339, 0.35355339, 0.35355339]), array([ 0.35355339,  0.35355339,  0.35355339,  0.35355339, -0.35355339,\n",
      "       -0.35355339, -0.35355339, -0.35355339]), array([ 0.5,  0.5, -0.5, -0.5,  0. ,  0. ,  0. ,  0. ]), array([ 0. ,  0. ,  0. ,  0. ,  0.5,  0.5, -0.5, -0.5]), array([ 0.70710678, -0.70710678,  0.        ,  0.        ,  0.        ,\n",
      "        0.        ,  0.        ,  0.        ]), array([ 0.        ,  0.        ,  0.70710678, -0.70710678,  0.        ,\n",
      "        0.        ,  0.        ,  0.        ]), array([ 0.        ,  0.        ,  0.        ,  0.        ,  0.70710678,\n",
      "       -0.70710678,  0.        ,  0.        ]), array([ 0.        ,  0.        ,  0.        ,  0.        ,  0.        ,\n",
      "        0.        ,  0.70710678, -0.70710678])]\n"
     ]
    }
   ],
   "source": [
    "for arr in np.transpose(V1):\n",
    "    zm = math.sqrt(np.dot(arr, arr))\n",
    "    jedn.append(arr / zm)\n",
    "print(jedn)"
   ],
   "metadata": {
    "collapsed": false,
    "pycharm": {
     "name": "#%%\n"
    }
   }
  },
  {
   "cell_type": "code",
   "execution_count": 36,
   "outputs": [
    {
     "name": "stdout",
     "output_type": "stream",
     "text": [
      "[[ 0.35355339  0.35355339  0.5         0.          0.70710678  0.\n",
      "   0.          0.        ]\n",
      " [ 0.35355339  0.35355339  0.5         0.         -0.70710678  0.\n",
      "   0.          0.        ]\n",
      " [ 0.35355339  0.35355339 -0.5         0.          0.          0.70710678\n",
      "   0.          0.        ]\n",
      " [ 0.35355339  0.35355339 -0.5         0.          0.         -0.70710678\n",
      "   0.          0.        ]\n",
      " [ 0.35355339 -0.35355339  0.          0.5         0.          0.\n",
      "   0.70710678  0.        ]\n",
      " [ 0.35355339 -0.35355339  0.          0.5         0.          0.\n",
      "  -0.70710678  0.        ]\n",
      " [ 0.35355339 -0.35355339  0.         -0.5         0.          0.\n",
      "   0.          0.70710678]\n",
      " [ 0.35355339 -0.35355339  0.         -0.5         0.          0.\n",
      "   0.         -0.70710678]]\n"
     ]
    }
   ],
   "source": [
    "np.set_printoptions(suppress=True)\n",
    "jedn1 = np.transpose(jedn)\n",
    "print(jedn1)"
   ],
   "metadata": {
    "collapsed": false,
    "pycharm": {
     "name": "#%%\n"
    }
   }
  },
  {
   "cell_type": "code",
   "execution_count": 37,
   "outputs": [
    {
     "name": "stdout",
     "output_type": "stream",
     "text": [
      "[[ 1.  0.  0.  0. -0. -0. -0. -0.]\n",
      " [ 0.  1.  0.  0. -0. -0.  0.  0.]\n",
      " [ 0.  0.  1.  0.  0.  0.  0.  0.]\n",
      " [ 0.  0.  0.  1.  0.  0.  0.  0.]\n",
      " [-0. -0.  0.  0.  1.  0.  0.  0.]\n",
      " [-0. -0.  0.  0.  0.  1.  0.  0.]\n",
      " [-0.  0.  0.  0.  0.  0.  1.  0.]\n",
      " [-0.  0.  0.  0.  0.  0.  0.  1.]]\n"
     ]
    }
   ],
   "source": [
    "jedn_zaok=np.round(np.transpose(jedn1) @ jedn1, decimals=1)\n",
    "\n",
    "przek = np.array([8, 6 ,2 ,3 ,4 ,6, 6, 5])\n",
    "przek1= np.transpose(jedn1) @ przek\n",
    "print(jedn_zaok)"
   ],
   "metadata": {
    "collapsed": false,
    "pycharm": {
     "name": "#%%\n"
    }
   }
  },
  {
   "cell_type": "code",
   "execution_count": 38,
   "outputs": [
    {
     "name": "stdout",
     "output_type": "stream",
     "text": [
      "[14.14213562 -0.70710678  4.5        -0.5         1.41421356 -0.70710678\n",
      " -1.41421356  0.70710678]\n"
     ]
    }
   ],
   "source": [
    "print(przek1)"
   ],
   "metadata": {
    "collapsed": false,
    "pycharm": {
     "name": "#%%\n"
    }
   }
  },
  {
   "cell_type": "code",
   "execution_count": null,
   "outputs": [],
   "source": [],
   "metadata": {
    "collapsed": false,
    "pycharm": {
     "name": "#%%\n"
    }
   }
  }
 ],
 "metadata": {
  "kernelspec": {
   "display_name": "Python 3",
   "language": "python",
   "name": "python3"
  },
  "language_info": {
   "codemirror_mode": {
    "name": "ipython",
    "version": 2
   },
   "file_extension": ".py",
   "mimetype": "text/x-python",
   "name": "python",
   "nbconvert_exporter": "python",
   "pygments_lexer": "ipython2",
   "version": "2.7.6"
  }
 },
 "nbformat": 4,
 "nbformat_minor": 0
}